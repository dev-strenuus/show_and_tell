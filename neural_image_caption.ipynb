{
 "cells": [
  {
   "cell_type": "markdown",
   "metadata": {
    "colab_type": "text",
    "id": "TBcLo-zFeOVz"
   },
   "source": [
    "## Show and Tell: A Neural Image Caption Generator"
   ]
  },
  {
   "cell_type": "markdown",
   "metadata": {
    "colab_type": "text",
    "id": "S-Cq44e_eOV3"
   },
   "source": [
    "Automatically describing the content of an image is a fundamental problem in AI that connects *computer vision* and *natural language processing*.\n",
    "In this task, we will be looking into how we can use CNNs and RNNs to build an Image Caption Generator.\n",
    "\n",
    "Specifically, you will be implementing and training the model [in this paper](https://arxiv.org/abs/1411.4555) with TensorFlow/Keras on one of the datasets mentioned in the paper.\n",
    "\n",
    "To lighten the burden on training the network, you can use any pretrained network in [tf.keras.applications](https://www.tensorflow.org/api_docs/python/tf/keras/applications)."
   ]
  },
  {
   "cell_type": "markdown",
   "metadata": {
    "colab_type": "text",
    "id": "z36RTQICeOWC"
   },
   "source": [
    "Notes:\n",
    "- Each image has 5 captions\n",
    "- We get the vocabulary size in order to generate features of length max(vocab) later on"
   ]
  },
  {
   "cell_type": "markdown",
   "metadata": {
    "colab_type": "text",
    "id": "n0Nlyfcb9p-2"
   },
   "source": [
    "To run this notebook from Google Colaboratory, please upload the Flickr8k dataset to your drive and update the paths to the dataset accordingly in the next few cells.\n",
    "\n",
    "You may request for the dataset from: https://forms.illinois.edu/sec/1713398"
   ]
  },
  {
   "cell_type": "markdown",
   "metadata": {
    "colab_type": "text",
    "id": "4vmr1YioC4dy"
   },
   "source": [
    "Steps to achieve this:\n",
    "1. Process the original dataset (token) to generate the captions for each image. At the same time, generate the vocabulary list and the max caption length that will be used for later steps.\n",
    "2. Process the images to get the features based on InceptionV3 model.\n",
    "3. Load the Glove embedding to be used for the text (caption) data. Download the embeddings from https://nlp.stanford.edu/projects/glove/ for glove.6B.200d.txt used in this project\n",
    "4. Create the data generator function to be used during training.\n",
    "5. Generate the NIC model - LSTM based.\n",
    "6. Train the model.\n",
    "7. Evaluate with bleu score\n",
    "\n",
    "To run the code:\n",
    "\n",
    "Please download the dataset and upload to the respective Google drive for it to be able to be loaded and trained in Google Colaboratory.\n",
    "\n",
    "Else, please change the path accordingly to the local paths in your machine."
   ]
  },
  {
   "cell_type": "markdown",
   "metadata": {
    "colab_type": "text",
    "id": "VsyoSUhZEmDo"
   },
   "source": [
    "## Loading the drive and imports"
   ]
  },
  {
   "cell_type": "code",
   "execution_count": 8,
   "metadata": {
    "colab": {
     "base_uri": "https://localhost:8080/",
     "height": 118
    },
    "colab_type": "code",
    "id": "_iOlSOTefCbQ",
    "outputId": "f9fa46c6-2775-485c-c870-8b8dfde78d79"
   },
   "outputs": [
    {
     "name": "stdout",
     "output_type": "stream",
     "text": [
      "Go to this URL in a browser: https://accounts.google.com/o/oauth2/auth?client_id=947318989803-6bn6qk8qdgf4n4g3pfee6491hc0brc4i.apps.googleusercontent.com&redirect_uri=urn%3aietf%3awg%3aoauth%3a2.0%3aoob&response_type=code&scope=email%20https%3a%2f%2fwww.googleapis.com%2fauth%2fdocs.test%20https%3a%2f%2fwww.googleapis.com%2fauth%2fdrive%20https%3a%2f%2fwww.googleapis.com%2fauth%2fdrive.photos.readonly%20https%3a%2f%2fwww.googleapis.com%2fauth%2fpeopleapi.readonly\n",
      "\n",
      "Enter your authorization code:\n",
      "··········\n",
      "Mounted at /content/gdrive\n"
     ]
    }
   ],
   "source": [
    "# Enable the loading of the dataset from drive \n",
    "from google.colab import drive\n",
    "drive.mount('/content/gdrive')"
   ]
  },
  {
   "cell_type": "code",
   "execution_count": 9,
   "metadata": {
    "colab": {
     "base_uri": "https://localhost:8080/",
     "height": 33
    },
    "colab_type": "code",
    "id": "2NKZ6L-meOWF",
    "outputId": "bbacae18-cd9d-4dbd-e92f-b5c5da24655a"
   },
   "outputs": [
    {
     "name": "stderr",
     "output_type": "stream",
     "text": [
      "Using TensorFlow backend.\n"
     ]
    }
   ],
   "source": [
    "import re\n",
    "import numpy as np\n",
    "import os\n",
    "\n",
    "from collections import defaultdict\n",
    "\n",
    "import keras \n",
    "from keras.preprocessing import sequence\n",
    "from keras.models import Sequential\n",
    "from keras.layers import LSTM, Embedding, TimeDistributed, Dense, RepeatVector,\\\n",
    "                         Activation, Flatten, Reshape, concatenate, Dropout, BatchNormalization\n",
    "from keras.optimizers import Adam, RMSprop\n",
    "from keras.layers.wrappers import Bidirectional\n",
    "from keras.layers.merge import add\n",
    "from keras.applications.inception_v3 import InceptionV3\n",
    "from keras.preprocessing import image\n",
    "from keras.models import Model\n",
    "from keras import Input, layers\n",
    "from keras import optimizers\n",
    "from keras.applications.inception_v3 import preprocess_input\n",
    "from keras.preprocessing.text import Tokenizer\n",
    "from keras.preprocessing.sequence import pad_sequences\n",
    "from keras.utils import to_categorical\n",
    "\n",
    "from keras.initializers import Constant\n"
   ]
  },
  {
   "cell_type": "code",
   "execution_count": 0,
   "metadata": {
    "colab": {},
    "colab_type": "code",
    "id": "D2okqlfReOXE"
   },
   "outputs": [],
   "source": [
    "# These 3 dataset only gives a list of image file names that is meant\n",
    "# for each set, change the path accor\n",
    "train_images = \"Flickr8k_text/Flickr_8k.trainImages.txt\"\n",
    "test_images = \"Flickr8k_text/Flickr_8k.testImages.txt\"\n",
    "dev_images = \"Flickr8k_text/Flickr_8k.devImages.txt\"\n",
    "\n",
    "# The caption file has the structure of\n",
    "# <image name>#i <caption> with 5 caption lines followed by an empty line\n",
    "caption_file = \"Flickr8k_text/Flickr8k.token.txt\"\n",
    "\n",
    "# this is the prefix to the dataset path in the drive, update accordingly\n",
    "drive_prefix = \"/content/gdrive/My Drive/\"\n",
    "image_path = \"Flicker8k_Dataset/\""
   ]
  },
  {
   "cell_type": "markdown",
   "metadata": {
    "colab_type": "text",
    "id": "3cCWCAVnBpAV"
   },
   "source": [
    "## Generate captions and Vocabularies"
   ]
  },
  {
   "cell_type": "code",
   "execution_count": 0,
   "metadata": {
    "colab": {},
    "colab_type": "code",
    "id": "ljxsGGPQeOXO"
   },
   "outputs": [],
   "source": [
    "def load_and_process_captions(filename):\n",
    "    vocabulary = set()\n",
    "    captions = defaultdict(list)\n",
    "    caption_max_length = 0\n",
    "    count = 0\n",
    "    with open(filename, \"r\") as f:\n",
    "        lines = f.readlines()\n",
    "        print(\"Total length: {}\".format(len(lines)))\n",
    "        for l in lines:\n",
    "            if not l:\n",
    "                continue\n",
    "\n",
    "            img_id, capt = l.split(\"\\t\") # tab-separated\n",
    "            img_id = img_id.split(\".\")[0] # retain only the name\n",
    "\n",
    "            # clean out single characters, there is a lot of \"a\"\n",
    "            clean_capt = [\n",
    "                x for x in re.sub(\n",
    "                    r'\\W+', ' ', capt).strip().lower().split()\n",
    "                if len(x) > 1\n",
    "            ]\n",
    "            \n",
    "            if len(clean_capt) > caption_max_length:\n",
    "                caption_max_length = len(clean_capt)\n",
    "\n",
    "            # Insert start and end marking for LSTM later\n",
    "            clean_capt.insert(0, \"<start>\")\n",
    "            clean_capt.append(\"<end>\")\n",
    "\n",
    "            vocabulary.update(clean_capt)\n",
    "            captions[img_id].append(\" \".join(clean_capt))\n",
    "\n",
    "            count += 1\n",
    "            if count % 1000 == 0:\n",
    "              print(\"Count: {}\".format(count))\n",
    "    print(\"Done processing\")\n",
    "    # convert back to normal dictionary to prevent error later on\n",
    "    return dict(captions), vocabulary, caption_max_length"
   ]
  },
  {
   "cell_type": "code",
   "execution_count": 12,
   "metadata": {
    "colab": {
     "base_uri": "https://localhost:8080/",
     "height": 732
    },
    "colab_type": "code",
    "id": "sSTkOreDeOXq",
    "outputId": "edbdb683-0e7f-4262-d825-267fdfbcfa94"
   },
   "outputs": [
    {
     "name": "stdout",
     "output_type": "stream",
     "text": [
      "Total length: 40460\n",
      "Count: 1000\n",
      "Count: 2000\n",
      "Count: 3000\n",
      "Count: 4000\n",
      "Count: 5000\n",
      "Count: 6000\n",
      "Count: 7000\n",
      "Count: 8000\n",
      "Count: 9000\n",
      "Count: 10000\n",
      "Count: 11000\n",
      "Count: 12000\n",
      "Count: 13000\n",
      "Count: 14000\n",
      "Count: 15000\n",
      "Count: 16000\n",
      "Count: 17000\n",
      "Count: 18000\n",
      "Count: 19000\n",
      "Count: 20000\n",
      "Count: 21000\n",
      "Count: 22000\n",
      "Count: 23000\n",
      "Count: 24000\n",
      "Count: 25000\n",
      "Count: 26000\n",
      "Count: 27000\n",
      "Count: 28000\n",
      "Count: 29000\n",
      "Count: 30000\n",
      "Count: 31000\n",
      "Count: 32000\n",
      "Count: 33000\n",
      "Count: 34000\n",
      "Count: 35000\n",
      "Count: 36000\n",
      "Count: 37000\n",
      "Count: 38000\n",
      "Count: 39000\n",
      "Count: 40000\n",
      "Done processing\n",
      "Vocabulary size: 8466\n",
      "Max length for caption: 33\n"
     ]
    }
   ],
   "source": [
    "caption_path = os.path.join(drive_prefix, caption_file)\n",
    "captions, vocabulary, caption_max_length = load_and_process_captions(caption_path)\n",
    "print(\"Vocabulary size: {}\".format(len(vocabulary)))\n",
    "print(\"Max length for caption: {}\".format(caption_max_length))"
   ]
  },
  {
   "cell_type": "markdown",
   "metadata": {
    "colab_type": "text",
    "id": "TTjVraBkBtNP"
   },
   "source": [
    "## Image Processsing and generate features"
   ]
  },
  {
   "cell_type": "code",
   "execution_count": 0,
   "metadata": {
    "colab": {},
    "colab_type": "code",
    "id": "4bcGsNcjeOYB"
   },
   "outputs": [],
   "source": [
    "def load_images(filename):\n",
    "    with open(filename, \"r\") as f:\n",
    "        lines = f.read().split(\"\\n\")\n",
    "    \n",
    "    data = [l.split(\".\")[0] for l in lines]\n",
    "    return data"
   ]
  },
  {
   "cell_type": "code",
   "execution_count": 0,
   "metadata": {
    "colab": {},
    "colab_type": "code",
    "id": "biFTdtPHeOYM"
   },
   "outputs": [],
   "source": [
    "def preprocess(image_path):\n",
    "    # Convert all the images to size 299x299 as expected by the inception v3 model\n",
    "    img = image.load_img(image_path, target_size=(299, 299))\n",
    "    # Convert PIL image to numpy array of 3-dimensions\n",
    "    x = image.img_to_array(img)\n",
    "    # Add one more dimension\n",
    "    x = np.expand_dims(x, axis=0)\n",
    "    # preprocess the images using preprocess_input() from inception module\n",
    "    x = preprocess_input(x)\n",
    "    return x\n",
    "\n",
    "# we choose to use inceptionV3 as it is one of the more compact choice\n",
    "def get_inception_model():\n",
    "    model = InceptionV3(weights='imagenet')\n",
    "    \n",
    "    # retrieve the second last layer\n",
    "    inceptionv3 = Model(model.input, model.layers[-2].output)\n",
    "    \n",
    "    return inceptionv3\n",
    "\n",
    "def inception_features(image_path, model):\n",
    "    \"\"\"\n",
    "    Takes in an `image_path` and load the image with `preprocess()`.\n",
    "    Use the `model` to generate the feature vectors.\n",
    "    \"\"\"\n",
    "    image = preprocess(image_path) # preprocess the image\n",
    "    feature_vec = model.predict(image) # Get the encoding vector for the image\n",
    "    feature_vec = np.reshape(feature_vec, feature_vec.shape[1]) # reshape from (1, 2048) to (2048, )\n",
    "    return feature_vec"
   ]
  },
  {
   "cell_type": "code",
   "execution_count": 0,
   "metadata": {
    "colab": {},
    "colab_type": "code",
    "id": "8s0AJOLceOZA"
   },
   "outputs": [],
   "source": [
    "def generate_image_features(image_list, data_path,\n",
    "                            save_path, returnval=False):\n",
    "    \"\"\"\n",
    "    Takes in a list of images `image_list`, load the image from their location\n",
    "    `data_path` and generate the feature vector with InceptionV3 model,\n",
    "    write it to the `save_path` for usage in later steps.\n",
    "    \"\"\"\n",
    "    model = get_inception_model()\n",
    "    if returnval:\n",
    "        features = {}\n",
    "    with open(save_path, \"a\") as f:\n",
    "        for img in image_list:\n",
    "            try:\n",
    "                print(\"Processing image: {}\".format(img))\n",
    "\n",
    "                img_path = os.path.join(data_path, \"{}.jpg\".format(img))\n",
    "                img_features = inception_features(img_path, model) \n",
    "                f.write(\"{}\\t{}\".format(img, \",\".join([str(i) for i in img_features])))\n",
    "                f.write(\"\\n\")\n",
    "\n",
    "                if returnval:\n",
    "                    features[img] = img_features\n",
    "            except Exception as e:\n",
    "                print(\"Failed to generate features for image: {}\".format(img))\n",
    "                print(e)\n",
    "                continue\n",
    "\n",
    "    if returnval:\n",
    "        return features"
   ]
  },
  {
   "cell_type": "code",
   "execution_count": 0,
   "metadata": {
    "colab": {},
    "colab_type": "code",
    "id": "Pr9ZFlzRA6qq"
   },
   "outputs": [],
   "source": [
    "def load_features(path):\n",
    "    features = {}\n",
    "    with open(path, \"r\") as f:\n",
    "        while True:\n",
    "          line = f.readline()\n",
    "          if len(line) < 1:\n",
    "              break\n",
    "          k, v = line.split(\"\\t\")\n",
    "          vec = [float(val) for val in v.split(\",\")]\n",
    "          features[k] = vec\n",
    "\n",
    "    return features"
   ]
  },
  {
   "cell_type": "code",
   "execution_count": 0,
   "metadata": {
    "colab": {},
    "colab_type": "code",
    "id": "8XYtWLFT_2fS"
   },
   "outputs": [],
   "source": [
    "def load_or_generate_features(train_path, test_path, mode=\"load\"):\n",
    "    \"\"\"\n",
    "    Loads or generates the features. \n",
    "    Takes in 2 paths, train_path and test_path.\n",
    "    Mode can either be `train` or `load`\n",
    "    \"\"\"\n",
    "\n",
    "    if mode == \"load\":\n",
    "        train_features = load_features(os.path.join(drive_prefix, train_path))\n",
    "        test_features = load_features(os.path.join(drive_prefix, test_path))\n",
    "    elif mode == \"train\":\n",
    "        train_features = generate_image_features(train_img, os.path.join(drive_prefix, image_path),\n",
    "                                        os.path.join(drive_prefix, train_path))\n",
    "        test_features = generate_image_features(test_img, os.path.join(drive_prefix, image_path),\n",
    "                                        os.path.join(drive_prefix, test_path)) \n",
    "    else:\n",
    "      raise Exception\n",
    "\n",
    "    return train_features, test_features"
   ]
  },
  {
   "cell_type": "code",
   "execution_count": 0,
   "metadata": {
    "colab": {},
    "colab_type": "code",
    "id": "vsBgS8yuJQnJ"
   },
   "outputs": [],
   "source": [
    "test_path = os.path.join(drive_prefix, test_images)\n",
    "train_path = os.path.join(drive_prefix, train_images)\n",
    "\n",
    "# define paths to save the feature vectors\n",
    "train_features_path = \"Flickr8k_text/Flickr_8k_train_fea.txt\"\n",
    "test_features_path = \"Flickr8k_text/Flickr_8k_test_fea.txt\"\n",
    "\n",
    "test_img = load_images(test_path)\n",
    "train_img = load_images(train_path)"
   ]
  },
  {
   "cell_type": "code",
   "execution_count": 0,
   "metadata": {
    "colab": {},
    "colab_type": "code",
    "id": "aD1WI6tZfzDg"
   },
   "outputs": [],
   "source": [
    "train_features, test_features = load_or_generate_features(train_features_path,\n",
    "                                                          test_features_path, \"load\")"
   ]
  },
  {
   "cell_type": "markdown",
   "metadata": {
    "colab_type": "text",
    "id": "1V6fbqXGB9n1"
   },
   "source": [
    "## Text data Processing"
   ]
  },
  {
   "cell_type": "code",
   "execution_count": 0,
   "metadata": {
    "colab": {},
    "colab_type": "code",
    "id": "hi_cI0mMeOaN"
   },
   "outputs": [],
   "source": [
    "def generate_idx_word_mapping(vocabulary):\n",
    "    word2idx = {}\n",
    "    idx2word = {}\n",
    "\n",
    "    idx = 0\n",
    "    for w in vocabulary:\n",
    "        word2idx[w] = idx\n",
    "        idx2word[idx] = w\n",
    "        idx += 1\n",
    "        \n",
    "    return word2idx, idx2word"
   ]
  },
  {
   "cell_type": "code",
   "execution_count": 0,
   "metadata": {
    "colab": {},
    "colab_type": "code",
    "id": "i8XJxvZlsY_w"
   },
   "outputs": [],
   "source": [
    "word2idx, idx2word = generate_idx_word_mapping(vocabulary)"
   ]
  },
  {
   "cell_type": "code",
   "execution_count": 0,
   "metadata": {
    "colab": {},
    "colab_type": "code",
    "id": "2picnmf4eObA"
   },
   "outputs": [],
   "source": [
    "glove_path = os.path.join(drive_prefix, \"glove.6B.200d.txt\")"
   ]
  },
  {
   "cell_type": "code",
   "execution_count": 0,
   "metadata": {
    "colab": {},
    "colab_type": "code",
    "id": "wF-VHIm_eObH"
   },
   "outputs": [],
   "source": [
    "def generate_glove_embeddings(glove_path, word2idx, vocab_size,\n",
    "                              embedding_dim=200):\n",
    "    # Load Glove vectors\n",
    "    embeddings_index = {}\n",
    "    with open(glove_path) as f:\n",
    "        for line in f:\n",
    "            word, coefs = line.split(maxsplit=1)\n",
    "            coefs = np.fromstring(coefs, 'f', sep=' ')\n",
    "            embeddings_index[word] = coefs\n",
    "\n",
    "    embedding_mat = np.zeros((vocab_size, embedding_dim))\n",
    "    for word, idx in word2idx.items():\n",
    "        if idx > vocab_size:\n",
    "            continue\n",
    "        embd_vec = embeddings_index.get(word)\n",
    "        if embd_vec is not None:\n",
    "            embedding_mat[idx] = embd_vec\n",
    "            \n",
    "    return embedding_mat"
   ]
  },
  {
   "cell_type": "code",
   "execution_count": 0,
   "metadata": {
    "colab": {},
    "colab_type": "code",
    "id": "YuqSLtRvCbPa"
   },
   "outputs": [],
   "source": [
    "embedding_dim = 200\n",
    "glove_mat = generate_glove_embeddings(glove_path, word2idx, len(vocabulary))"
   ]
  },
  {
   "cell_type": "markdown",
   "metadata": {
    "colab_type": "text",
    "id": "UTJBtxF3CR8e"
   },
   "source": [
    "## Data Generator for the model "
   ]
  },
  {
   "cell_type": "code",
   "execution_count": 0,
   "metadata": {
    "colab": {},
    "colab_type": "code",
    "id": "7GjeskHxeOan"
   },
   "outputs": [],
   "source": [
    "def data_generator(captions_all, images, word2idx, idx2word,\n",
    "                   caption_max_length, vocab_size, batch_size):\n",
    "    img_input = list()\n",
    "    txt_input = list()\n",
    "    y = list()\n",
    "    \n",
    "    count = 0\n",
    "    \n",
    "    while True:\n",
    "      for img, image_feature in images.items():\n",
    "          count += 1\n",
    "          captions = captions_all[img]\n",
    "          for caption in captions:\n",
    "              seq = [word2idx[w] for w in\n",
    "                      caption.split(\" \") if w in word2idx]\n",
    "              \n",
    "              \"\"\"\n",
    "              generate data as step sequence\n",
    "              start               1\n",
    "              start 1             2\n",
    "              start 1 2           3 \n",
    "              start 1 ..... n-1   n \n",
    "              with padding to max length\n",
    "              label needs to be converted to categorical as this\n",
    "              can be seen as classification task for the next seq\n",
    "              \"\"\"\n",
    "              for i in range(len(seq)):\n",
    "                  _input, _output = seq[:i], seq[i]\n",
    "                  _input = pad_sequences([_input], maxlen=caption_max_length)[0]\n",
    "                  _output = to_categorical([_output], num_classes=vocab_size)[0]\n",
    "                  \n",
    "                  img_input.append(image_feature)\n",
    "                  txt_input.append(_input)\n",
    "                  y.append(_output)\n",
    "              \n",
    "          if count % batch_size == 0:\n",
    "              yield ([np.array(img_input), np.array(txt_input)],\n",
    "                      np.array(y))\n",
    "              \n",
    "              img_input = list()\n",
    "              txt_input = list()\n",
    "              y = list()"
   ]
  },
  {
   "cell_type": "markdown",
   "metadata": {
    "colab_type": "text",
    "id": "CXjGyTY1CU3o"
   },
   "source": [
    "## Model Architecture"
   ]
  },
  {
   "cell_type": "code",
   "execution_count": 0,
   "metadata": {
    "colab": {},
    "colab_type": "code",
    "id": "LdMiRtxieObP"
   },
   "outputs": [],
   "source": [
    "def image_captioning_model(vocab_size, caption_max_length, embedding_matrix,\n",
    "                           embedding_dim):\n",
    "    inputs1 = Input(shape=(2048,))  # image input\n",
    "    # fe1 = Dropout(0.5)(inputs1)     # it is common overfitting\n",
    "    fe2 = Dense(256, activation='relu')(inputs1)\n",
    "\n",
    "    # partial caption sequence model\n",
    "    inputs2 = Input(shape=(caption_max_length,))  # text input\n",
    "    se1 = Embedding(vocab_size, embedding_dim,\n",
    "                    embeddings_initializer=Constant(embedding_matrix),\n",
    "                    input_length=caption_max_length,\n",
    "                    trainable=False, mask_zero=True)(inputs2)   # use pretrained glove embeddings\n",
    "    # se2 = Dropout(0.5)(se1)        # prevent overfitting\n",
    "    se3 = Dense(256, activation=\"relu\")(se1)\n",
    "    # se3 = LSTM(256)(se2)\n",
    "\n",
    "    # decoder (feed forward) model\n",
    "    decoder1 = add([fe2, se3])\n",
    "    lstm_layer = LSTM(256)(decoder1)\n",
    "    decoder2 = Dense(256, activation='relu')(lstm_layer)\n",
    "    outputs = Dense(vocab_size, activation='softmax')(decoder2)\n",
    "\n",
    "    # merge the two input models\n",
    "    model = Model(inputs=[inputs1, inputs2], outputs=outputs)\n",
    "    \n",
    "    return model"
   ]
  },
  {
   "cell_type": "code",
   "execution_count": 27,
   "metadata": {
    "colab": {
     "base_uri": "https://localhost:8080/",
     "height": 687
    },
    "colab_type": "code",
    "id": "dqDvYy3DeObV",
    "outputId": "7ce123b7-88ab-483f-c5f9-01d597c23a5b"
   },
   "outputs": [
    {
     "name": "stdout",
     "output_type": "stream",
     "text": [
      "WARNING:tensorflow:From /usr/local/lib/python3.6/dist-packages/keras/backend/tensorflow_backend.py:66: The name tf.get_default_graph is deprecated. Please use tf.compat.v1.get_default_graph instead.\n",
      "\n",
      "WARNING:tensorflow:From /usr/local/lib/python3.6/dist-packages/keras/backend/tensorflow_backend.py:541: The name tf.placeholder is deprecated. Please use tf.compat.v1.placeholder instead.\n",
      "\n",
      "WARNING:tensorflow:From /usr/local/lib/python3.6/dist-packages/keras/backend/tensorflow_backend.py:4432: The name tf.random_uniform is deprecated. Please use tf.random.uniform instead.\n",
      "\n",
      "WARNING:tensorflow:From /usr/local/lib/python3.6/dist-packages/keras/backend/tensorflow_backend.py:3239: where (from tensorflow.python.ops.array_ops) is deprecated and will be removed in a future version.\n",
      "Instructions for updating:\n",
      "Use tf.where in 2.0, which has the same broadcast rule as np.where\n",
      "WARNING:tensorflow:From /usr/local/lib/python3.6/dist-packages/keras/optimizers.py:793: The name tf.train.Optimizer is deprecated. Please use tf.compat.v1.train.Optimizer instead.\n",
      "\n",
      "WARNING:tensorflow:From /usr/local/lib/python3.6/dist-packages/keras/backend/tensorflow_backend.py:3576: The name tf.log is deprecated. Please use tf.math.log instead.\n",
      "\n",
      "Model: \"model_1\"\n",
      "__________________________________________________________________________________________________\n",
      "Layer (type)                    Output Shape         Param #     Connected to                     \n",
      "==================================================================================================\n",
      "input_2 (InputLayer)            (None, 33)           0                                            \n",
      "__________________________________________________________________________________________________\n",
      "input_1 (InputLayer)            (None, 2048)         0                                            \n",
      "__________________________________________________________________________________________________\n",
      "embedding_1 (Embedding)         (None, 33, 200)      1693200     input_2[0][0]                    \n",
      "__________________________________________________________________________________________________\n",
      "dense_1 (Dense)                 (None, 256)          524544      input_1[0][0]                    \n",
      "__________________________________________________________________________________________________\n",
      "dense_2 (Dense)                 (None, 33, 256)      51456       embedding_1[0][0]                \n",
      "__________________________________________________________________________________________________\n",
      "add_1 (Add)                     (None, 33, 256)      0           dense_1[0][0]                    \n",
      "                                                                 dense_2[0][0]                    \n",
      "__________________________________________________________________________________________________\n",
      "lstm_1 (LSTM)                   (None, 256)          525312      add_1[0][0]                      \n",
      "__________________________________________________________________________________________________\n",
      "dense_3 (Dense)                 (None, 256)          65792       lstm_1[0][0]                     \n",
      "__________________________________________________________________________________________________\n",
      "dense_4 (Dense)                 (None, 8466)         2175762     dense_3[0][0]                    \n",
      "==================================================================================================\n",
      "Total params: 5,036,066\n",
      "Trainable params: 3,342,866\n",
      "Non-trainable params: 1,693,200\n",
      "__________________________________________________________________________________________________\n"
     ]
    }
   ],
   "source": [
    "NIC_model = image_captioning_model(len(vocabulary), caption_max_length,\n",
    "                                  glove_mat, embedding_dim)\n",
    "\n",
    "NIC_model.compile(loss='categorical_crossentropy', optimizer='adam')\n",
    "NIC_model.summary()"
   ]
  },
  {
   "cell_type": "code",
   "execution_count": 28,
   "metadata": {
    "colab": {
     "base_uri": "https://localhost:8080/",
     "height": 753
    },
    "colab_type": "code",
    "id": "gA45CT4N0385",
    "outputId": "ef66b780-2bb2-4338-f05d-89d10dd2dc98"
   },
   "outputs": [
    {
     "data": {
      "image/png": "[encoded data removed]",
      "text/plain": [
       "<IPython.core.display.Image object>"
      ]
     },
     "execution_count": 28,
     "metadata": {
      "tags": []
     },
     "output_type": "execute_result"
    }
   ],
   "source": [
    "keras.utils.plot_model(NIC_model, \"model_no_dropout.png\", show_shapes=True)"
   ]
  },
  {
   "cell_type": "code",
   "execution_count": 29,
   "metadata": {
    "colab": {
     "base_uri": "https://localhost:8080/",
     "height": 947
    },
    "colab_type": "code",
    "id": "lFlzzipR2ZsL",
    "outputId": "355be8f8-1d7d-4b95-911d-6b9eece1f8ed"
   },
   "outputs": [
    {
     "name": "stdout",
     "output_type": "stream",
     "text": [
      "WARNING:tensorflow:From /usr/local/lib/python3.6/dist-packages/keras/backend/tensorflow_backend.py:1033: The name tf.assign_add is deprecated. Please use tf.compat.v1.assign_add instead.\n",
      "\n",
      "WARNING:tensorflow:From /usr/local/lib/python3.6/dist-packages/keras/backend/tensorflow_backend.py:1020: The name tf.assign is deprecated. Please use tf.compat.v1.assign instead.\n",
      "\n",
      "WARNING:tensorflow:From /usr/local/lib/python3.6/dist-packages/keras/backend/tensorflow_backend.py:3005: The name tf.Session is deprecated. Please use tf.compat.v1.Session instead.\n",
      "\n",
      "Epoch 1/20\n",
      "WARNING:tensorflow:From /usr/local/lib/python3.6/dist-packages/keras/backend/tensorflow_backend.py:190: The name tf.get_default_session is deprecated. Please use tf.compat.v1.get_default_session instead.\n",
      "\n",
      "WARNING:tensorflow:From /usr/local/lib/python3.6/dist-packages/keras/backend/tensorflow_backend.py:197: The name tf.ConfigProto is deprecated. Please use tf.compat.v1.ConfigProto instead.\n",
      "\n",
      "WARNING:tensorflow:From /usr/local/lib/python3.6/dist-packages/keras/backend/tensorflow_backend.py:207: The name tf.global_variables is deprecated. Please use tf.compat.v1.global_variables instead.\n",
      "\n",
      "WARNING:tensorflow:From /usr/local/lib/python3.6/dist-packages/keras/backend/tensorflow_backend.py:216: The name tf.is_variable_initialized is deprecated. Please use tf.compat.v1.is_variable_initialized instead.\n",
      "\n",
      "WARNING:tensorflow:From /usr/local/lib/python3.6/dist-packages/keras/backend/tensorflow_backend.py:223: The name tf.variables_initializer is deprecated. Please use tf.compat.v1.variables_initializer instead.\n",
      "\n",
      "810/809 [==============================] - 128s 158ms/step - loss: 5.1384\n",
      "Epoch 2/20\n",
      "810/809 [==============================] - 108s 134ms/step - loss: 4.0314\n",
      "Epoch 3/20\n",
      "810/809 [==============================] - 101s 124ms/step - loss: 3.5279\n",
      "Epoch 4/20\n",
      "810/809 [==============================] - 100s 124ms/step - loss: 3.2386\n",
      "Epoch 5/20\n",
      "810/809 [==============================] - 100s 123ms/step - loss: 3.0403\n",
      "Epoch 6/20\n",
      "810/809 [==============================] - 99s 122ms/step - loss: 2.8994\n",
      "Epoch 7/20\n",
      "810/809 [==============================] - 100s 123ms/step - loss: 2.7690\n",
      "Epoch 8/20\n",
      "810/809 [==============================] - 99s 123ms/step - loss: 2.6660\n",
      "Epoch 9/20\n",
      "810/809 [==============================] - 100s 123ms/step - loss: 2.5894\n",
      "Epoch 10/20\n",
      "810/809 [==============================] - 100s 123ms/step - loss: 2.5020\n",
      "Epoch 11/20\n",
      "810/809 [==============================] - 102s 126ms/step - loss: 2.4364\n",
      "Epoch 12/20\n",
      "810/809 [==============================] - 100s 124ms/step - loss: 2.3866\n",
      "Epoch 13/20\n",
      "810/809 [==============================] - 101s 124ms/step - loss: 2.3204\n",
      "Epoch 14/20\n",
      "810/809 [==============================] - 100s 123ms/step - loss: 2.2778\n",
      "Epoch 15/20\n",
      "810/809 [==============================] - 100s 123ms/step - loss: 2.2203\n",
      "Epoch 16/20\n",
      "810/809 [==============================] - 100s 123ms/step - loss: 2.1814\n",
      "Epoch 17/20\n",
      "810/809 [==============================] - 99s 123ms/step - loss: 2.1585\n",
      "Epoch 18/20\n",
      "810/809 [==============================] - 99s 122ms/step - loss: 2.1164\n",
      "Epoch 19/20\n",
      "810/809 [==============================] - 98s 121ms/step - loss: 2.0897\n",
      "Epoch 20/20\n",
      "810/809 [==============================] - 98s 121ms/step - loss: 2.0615\n"
     ]
    }
   ],
   "source": [
    "epochs = 20\n",
    "number_pics_per_batch = 10\n",
    "steps = len(captions) / number_pics_per_batch\n",
    "\n",
    "generator = data_generator(captions, train_features, word2idx, idx2word, caption_max_length, len(vocabulary), number_pics_per_batch)\n",
    "\n",
    "NIC_model.fit_generator(generator, epochs=epochs, steps_per_epoch=steps, verbose=1)\n",
    "NIC_model.save(os.path.join(drive_prefix, 'Flickr8k_text/train_model_nodropout{}.h5'.format(epochs)))\n",
    "\n",
    "\n",
    "# from keras.models import load_model\n",
    "# NIC_model = load_model(os.path.join(drive_prefix, 'Flickr8k_text/train_model_80.h5'))"
   ]
  },
  {
   "cell_type": "markdown",
   "metadata": {
    "colab_type": "text",
    "id": "EFVh9igeeOeA"
   },
   "source": [
    "## Evaluation"
   ]
  },
  {
   "cell_type": "code",
   "execution_count": 0,
   "metadata": {
    "colab": {},
    "colab_type": "code",
    "id": "Qncre_BDeOeG"
   },
   "outputs": [],
   "source": [
    "def get_caption(model, image, word2idx, idx2word, caption_max_length):\n",
    "    in_text = '<start>'\n",
    "    for i in range(caption_max_length):\n",
    "        seq = [word2idx[w] for w in in_text.split() if w in word2idx]\n",
    "        seq = pad_sequences([seq], maxlen=caption_max_length)\n",
    "\n",
    "        yhat = model.predict([[image], seq], verbose=0)\n",
    "        yhat = np.argmax(yhat)\n",
    "        word = idx2word[yhat]\n",
    "        in_text += ' ' + word\n",
    "        if word == '<end>':\n",
    "            break\n",
    "    caption = in_text.split()\n",
    "    caption = caption[1:-1]\n",
    "    caption = ' '.join(caption)\n",
    "    return caption"
   ]
  },
  {
   "cell_type": "code",
   "execution_count": 0,
   "metadata": {
    "colab": {},
    "colab_type": "code",
    "id": "Os-He8oRfOO_"
   },
   "outputs": [],
   "source": [
    "## Uncomment this cell if you would like to evaluate later on, you will need to save these mappings\n",
    "# import json\n",
    "\n",
    "# idx2word_path = os.path.join(drive_prefix, \"Flickr8k_text/idx2word_20.txt\")\n",
    "# word2idx_path = os.path.join(drive_prefix, \"Flickr8k_text/word2idx_20.txt\")\n",
    "\n",
    "# with open(idx2word_path, \"w\") as f:\n",
    "#     json.dump(idx2word, f)\n",
    "\n",
    "# with open(word2idx_path, \"w\") as f:\n",
    "#     json.dump(word2idx, f)"
   ]
  },
  {
   "cell_type": "code",
   "execution_count": 0,
   "metadata": {
    "colab": {},
    "colab_type": "code",
    "id": "t-awpMBVfziZ"
   },
   "outputs": [],
   "source": [
    "## Uncomment this cell if you are loading from pre-trained\n",
    "# def load_json(path):\n",
    "#     with open(path, \"r\") as f:\n",
    "#         data = f.read()\n",
    "#         data = json.loads(data)\n",
    "#         try:\n",
    "#             data = {int(k): v for k, v in data.items()}\n",
    "#         except:\n",
    "#             data = {k: int(v) for k, v in data.items()}\n",
    "\n",
    "#     return data\n",
    "\n",
    "# idx2word_load = load_json(idx2word_path)\n",
    "# word2idx_load = load_json(word2idx_path)"
   ]
  },
  {
   "cell_type": "code",
   "execution_count": 0,
   "metadata": {
    "colab": {},
    "colab_type": "code",
    "id": "zQVO3hmCPVng"
   },
   "outputs": [],
   "source": [
    "def beam_search(model, image, word2idx, idx2word, caption_max_length, beam_index = 3):\n",
    "    in_text = [['<start>',0]]\n",
    "    eps = 1e-300\n",
    "    for i in range(caption_max_length):\n",
    "        temp = []\n",
    "        for j in range(len(in_text)):\n",
    "            if in_text[j][0][-5:] == '<end>':\n",
    "                temp.append(in_text[j])\n",
    "                continue\n",
    "            seq = [word2idx[w] for w in in_text[j][0].split() if w in word2idx]\n",
    "            seq = pad_sequences([seq], maxlen=caption_max_length)\n",
    "            yhat = model.predict([[image], seq], verbose=0)\n",
    "            candidates = np.argsort(yhat[0])[-beam_index:]\n",
    "            for k in range(beam_index):\n",
    "                word = idx2word[candidates[k]]\n",
    "                temp.append([in_text[j][0] + ' ' + word, in_text[j][1] + np.log(eps+yhat[0][candidates[k]])])\n",
    "        temp = sorted(temp, reverse=False, key=lambda l: l[1])\n",
    "        in_text = temp[-beam_index:]\n",
    "                \n",
    "    caption = in_text[0][0].split()\n",
    "    caption = caption[1:-1]\n",
    "    caption = ' '.join(caption)\n",
    "    return caption"
   ]
  },
  {
   "cell_type": "code",
   "execution_count": 34,
   "metadata": {
    "colab": {
     "base_uri": "https://localhost:8080/",
     "height": 33
    },
    "colab_type": "code",
    "id": "CZToTI3ZeOeK",
    "outputId": "15c089cd-f977-4251-f164-fc9090de058b"
   },
   "outputs": [
    {
     "data": {
      "text/plain": [
       "'man in black leather jacket and black jacket is standing in front of crowd'"
      ]
     },
     "execution_count": 34,
     "metadata": {
      "tags": []
     },
     "output_type": "execute_result"
    }
   ],
   "source": [
    "get_caption(NIC_model, np.array(test_features[list(test_features.keys())[97]]), word2idx, idx2word, caption_max_length)"
   ]
  },
  {
   "cell_type": "code",
   "execution_count": 35,
   "metadata": {
    "colab": {
     "base_uri": "https://localhost:8080/",
     "height": 33
    },
    "colab_type": "code",
    "id": "0Hq4sU4ndQc_",
    "outputId": "f372b2ad-0f3a-499e-e782-ab8bff015462"
   },
   "outputs": [
    {
     "data": {
      "text/plain": [
       "'man in black leather jacket is standing in front of crowd of people'"
      ]
     },
     "execution_count": 35,
     "metadata": {
      "tags": []
     },
     "output_type": "execute_result"
    }
   ],
   "source": [
    "beam_search(NIC_model, np.array(test_features[list(test_features.keys())[97]]), word2idx, idx2word, caption_max_length)"
   ]
  },
  {
   "cell_type": "code",
   "execution_count": 0,
   "metadata": {
    "colab": {},
    "colab_type": "code",
    "id": "6Kr04up-PGVQ"
   },
   "outputs": [],
   "source": [
    "import json\n",
    "from nltk.translate.bleu_score import sentence_bleu\n",
    "\n",
    "def evaluate_bleu(getter, model, test_set, word2idx, idx2word, caption_max_length, save_path=None):\n",
    "    scores = []\n",
    "    predicted = {}\n",
    "    for k, v in test_set.items():\n",
    "        predicted_caption = getter(NIC_model, v, word2idx, idx2word, caption_max_length)\n",
    "        actual_captions = captions[k]\n",
    "\n",
    "        for capt in actual_captions:\n",
    "            score = sentence_bleu(capt, predicted_caption)\n",
    "            scores.append(score)\n",
    "\n",
    "        predicted[k] = predicted_caption\n",
    "\n",
    "    if save_path is not None:\n",
    "        with open(save_path, \"w\") as f:\n",
    "            json.dump(predicted, f)\n",
    "\n",
    "    avg_bleu = np.mean(scores)\n",
    "    print(\"Average BLEU is: {}\".format(avg_bleu))\n",
    "    return avg_bleu"
   ]
  },
  {
   "cell_type": "code",
   "execution_count": 37,
   "metadata": {
    "colab": {
     "base_uri": "https://localhost:8080/",
     "height": 115
    },
    "colab_type": "code",
    "id": "zkTu3Ak-SVAr",
    "outputId": "6474ed37-58df-4e48-c040-ad7e2e095efc"
   },
   "outputs": [
    {
     "name": "stderr",
     "output_type": "stream",
     "text": [
      "/usr/local/lib/python3.6/dist-packages/nltk/translate/bleu_score.py:490: UserWarning: \n",
      "Corpus/Sentence contains 0 counts of 2-gram overlaps.\n",
      "BLEU scores might be undesirable; use SmoothingFunction().\n",
      "  warnings.warn(_msg)\n"
     ]
    },
    {
     "name": "stdout",
     "output_type": "stream",
     "text": [
      "Average BLEU is: 0.7598901723314678\n"
     ]
    },
    {
     "data": {
      "text/plain": [
       "0.7598901723314678"
      ]
     },
     "execution_count": 37,
     "metadata": {
      "tags": []
     },
     "output_type": "execute_result"
    }
   ],
   "source": [
    "evaluate_bleu(get_caption, NIC_model, test_features, word2idx, idx2word, caption_max_length,\n",
    "              os.path.join(drive_prefix, \"Flickr8k_text/Flickr_8k_predicted_test_50.txt\")\n",
    ")"
   ]
  },
  {
   "cell_type": "code",
   "execution_count": 38,
   "metadata": {
    "colab": {
     "base_uri": "https://localhost:8080/",
     "height": 115
    },
    "colab_type": "code",
    "id": "x8o5hsr2PSSQ",
    "outputId": "4ebdc2ba-6bc0-4e7b-8701-340a77523c1d"
   },
   "outputs": [
    {
     "name": "stderr",
     "output_type": "stream",
     "text": [
      "/usr/local/lib/python3.6/dist-packages/nltk/translate/bleu_score.py:490: UserWarning: \n",
      "Corpus/Sentence contains 0 counts of 2-gram overlaps.\n",
      "BLEU scores might be undesirable; use SmoothingFunction().\n",
      "  warnings.warn(_msg)\n"
     ]
    },
    {
     "name": "stdout",
     "output_type": "stream",
     "text": [
      "Average BLEU is: 0.7283240604523661\n"
     ]
    },
    {
     "data": {
      "text/plain": [
       "0.7283240604523661"
      ]
     },
     "execution_count": 38,
     "metadata": {
      "tags": []
     },
     "output_type": "execute_result"
    }
   ],
   "source": [
    "evaluate_bleu(beam_search, NIC_model, test_features, word2idx, idx2word, caption_max_length,\n",
    "              os.path.join(drive_prefix, \"Flickr8k_text/Flickr_8k_predicted_test_50.txt\")\n",
    ")"
   ]
  }
 ],
 "metadata": {
  "accelerator": "GPU",
  "colab": {
   "name": "id2223_sherly_andrea_lab2.ipynb",
   "provenance": []
  },
  "kernelspec": {
   "display_name": "Python 3",
   "language": "python",
   "name": "python3"
  },
  "language_info": {
   "codemirror_mode": {
    "name": "ipython",
    "version": 3
   },
   "file_extension": ".py",
   "mimetype": "text/x-python",
   "name": "python",
   "nbconvert_exporter": "python",
   "pygments_lexer": "ipython3",
   "version": "3.7.3"
  }
 },
 "nbformat": 4,
 "nbformat_minor": 1
}
